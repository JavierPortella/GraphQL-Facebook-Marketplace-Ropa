{
 "cells": [
  {
   "cell_type": "code",
   "execution_count": null,
   "id": "f7724077",
   "metadata": {},
   "outputs": [],
   "source": [
    "import pandas as pd\n",
    "\n",
    "\n",
    "\n",
    "# Variables\n",
    "\n",
    "filename = r'C:\\Users\\USER\\Desktop\\DESPEGAR\\fb_vehiculos_27122022_2138 (1).csv'\n",
    "\n",
    "sufix = 'corregido'\n",
    "\n",
    "filenameFixed = filename.split('.')[0] +'-' + sufix + '.'+ filename.split('.')[1]\n",
    "\n",
    "\n",
    "\n",
    "# Lectura del archivo csv\n",
    "\n",
    "data = pd.read_csv(filename, sep=';', encoding='utf-8')\n",
    "\n",
    "\n",
    "\n",
    "# Cambio de codificación a latin-1 por columnas específicas (solo las de texto)\n",
    "\n",
    "cols = ['titulo_marketplace', 'descripcion', 'vendedor', 'locacion']\n",
    "\n",
    "data[cols] = data[cols].apply(lambda x: x.str.encode('latin-1', 'ignore').str.decode('latin-1'))   \n",
    "\n",
    "\n",
    "\n",
    "# Lectura del archivo csv corregido\n",
    "\n",
    "data.to_csv(filenameFixed, sep=';', index=False, encoding='latin-1')"
   ]
  }
 ],
 "metadata": {
  "kernelspec": {
   "display_name": "Python 3 (ipykernel)",
   "language": "python",
   "name": "python3"
  },
  "language_info": {
   "codemirror_mode": {
    "name": "ipython",
    "version": 3
   },
   "file_extension": ".py",
   "mimetype": "text/x-python",
   "name": "python",
   "nbconvert_exporter": "python",
   "pygments_lexer": "ipython3",
   "version": "3.8.5"
  }
 },
 "nbformat": 4,
 "nbformat_minor": 5
}
