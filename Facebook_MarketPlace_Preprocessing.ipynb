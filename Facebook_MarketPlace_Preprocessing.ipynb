{
 "cells": [
  {
   "cell_type": "code",
   "execution_count": 1,
   "id": "1cc0a04c",
   "metadata": {},
   "outputs": [],
   "source": [
    "from os import chdir, getcwd, listdir, makedirs, path\n",
    "from pandas import read_excel\n",
    "from re import compile\n",
    "from unidecode import unidecode"
   ]
  },
  {
   "cell_type": "code",
   "execution_count": 2,
   "id": "99ba198e",
   "metadata": {},
   "outputs": [],
   "source": [
    "def cambiar_ruta_trabajo(path=\"..\"):\n",
    "    chdir(path)"
   ]
  },
  {
   "cell_type": "code",
   "execution_count": 3,
   "id": "8b6e4323",
   "metadata": {},
   "outputs": [],
   "source": [
    "def eliminar_caracteres(df_data, na_action=\"ignore\"):\n",
    "    return df_data.applymap(lambda x: unidecode(str(x)), na_action=na_action)"
   ]
  },
  {
   "cell_type": "code",
   "execution_count": 4,
   "id": "899425c2",
   "metadata": {},
   "outputs": [],
   "source": [
    "def reemplazar_nulos(df_data, value_to_replace=\"\"):\n",
    "    return df_data.fillna(value_to_replace)"
   ]
  },
  {
   "cell_type": "code",
   "execution_count": 5,
   "id": "5e481c26",
   "metadata": {},
   "outputs": [],
   "source": [
    "def reemplazar_valores(df_data, pattern, value=None, regex=False):\n",
    "    if regex:\n",
    "        pattern = compile(pattern)\n",
    "    if type(pattern) == str:\n",
    "        return df_data.replace(to_replace=pattern, value=value,regex=regex)\n",
    "    else:\n",
    "        return df_data.replace(to_replace=pattern)"
   ]
  },
  {
   "cell_type": "code",
   "execution_count": 6,
   "id": "49b660c0",
   "metadata": {},
   "outputs": [],
   "source": [
    "def remover_publicaciones(df_data, column_1=\"descripcion\", column_2=\"titulo_marketplace\", pattern=\"#adi\"):\n",
    "    return df_data.drop(df_data[df_data[column_1].isna() & df_data[column_2].str.lower().str.contains(pattern)].index)"
   ]
  },
  {
   "cell_type": "code",
   "execution_count": 7,
   "id": "01834513",
   "metadata": {},
   "outputs": [],
   "source": [
    "def remover_duplicados(df_data, columns):\n",
    "    return df_data.drop(df_data[df_data[columns].duplicated()].index)"
   ]
  },
  {
   "cell_type": "code",
   "execution_count": 8,
   "id": "bbf865be",
   "metadata": {},
   "outputs": [],
   "source": [
    "def remover_columnas_innecesarias(df_data, columns):\n",
    "    return df_data.drop(columns, axis = 1)"
   ]
  },
  {
   "cell_type": "code",
   "execution_count": 9,
   "id": "2f301cea",
   "metadata": {},
   "outputs": [],
   "source": [
    "def cambiar_tipo_dato(df_data, datatype=\"str\"):\n",
    "    return df_data.astype(datatype)"
   ]
  },
  {
   "cell_type": "code",
   "execution_count": 10,
   "id": "f9e4dcbb",
   "metadata": {},
   "outputs": [],
   "source": [
    "def procesar_data(df_data):    \n",
    "    cols_str = ['titulo_marketplace', 'descripcion', 'locacion']\n",
    "    cols_bool = [\"disponible\", \"vendido\"]\n",
    "    df_data[cols_str] = eliminar_caracteres(df_data[cols_str])\n",
    "    df_data[cols_str] = reemplazar_valores(df_data[cols_str], r\"\\r?\\n\", \" \", regex=True)\n",
    "    df_data = remover_publicaciones(df_data)\n",
    "    df_data = reemplazar_nulos(df_data, \"null\")\n",
    "    df_data[cols_bool] = cambiar_tipo_dato(df_data[cols_bool])\n",
    "    df_data = remover_duplicados(df_data, [\"id_vendedor\", \"titulo_marketplace\"])\n",
    "    return df_data"
   ]
  },
  {
   "cell_type": "code",
   "execution_count": 11,
   "id": "104fc165",
   "metadata": {},
   "outputs": [],
   "source": [
    "def main():\n",
    "    root_path = getcwd()\n",
    "    raw_data_folder = \"Data/datos_obtenidos\"\n",
    "    processed_data_folder = \"../datos_depurados\"\n",
    "    cambiar_ruta_trabajo(raw_data_folder)\n",
    "    data_folder = listdir()[-1]\n",
    "    data_filename = listdir(data_folder)\n",
    "    filename = list(filter(lambda x: x.split(\".\")[-1] in [\"xlsx\", \"csv\"], data_filename))[0]\n",
    "    data_path = data_folder + \"/\" + filename\n",
    "    df_ropa = read_excel(data_path)\n",
    "    df_ropa = procesar_data(df_ropa)\n",
    "    cambiar_ruta_trabajo(processed_data_folder)\n",
    "    if not path.exists(data_folder):\n",
    "        makedirs(data_folder)\n",
    "    df_ropa.to_excel(data_path)\n",
    "    cambiar_ruta_trabajo(root_path)"
   ]
  },
  {
   "cell_type": "code",
   "execution_count": 12,
   "id": "dd7f6aef",
   "metadata": {},
   "outputs": [],
   "source": [
    "main()"
   ]
  },
  {
   "cell_type": "code",
   "execution_count": null,
   "id": "6a64a4f3",
   "metadata": {},
   "outputs": [],
   "source": []
  }
 ],
 "metadata": {
  "kernelspec": {
   "display_name": "Python 3 (ipykernel)",
   "language": "python",
   "name": "python3"
  },
  "language_info": {
   "codemirror_mode": {
    "name": "ipython",
    "version": 3
   },
   "file_extension": ".py",
   "mimetype": "text/x-python",
   "name": "python",
   "nbconvert_exporter": "python",
   "pygments_lexer": "ipython3",
   "version": "3.8.5"
  }
 },
 "nbformat": 4,
 "nbformat_minor": 5
}
